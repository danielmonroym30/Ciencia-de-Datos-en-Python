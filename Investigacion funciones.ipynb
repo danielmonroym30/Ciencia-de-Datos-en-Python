{
 "cells": [
  {
   "cell_type": "markdown",
   "metadata": {},
   "source": [
    "1.\tFunciones en Python \n",
    "Las funciones en este lenguaje de programación son un grupo de instrucciones que realizan una determinada función y que se ejecutan haciendo un llamado a las mismas. En Python, existen funciones integradas, que son las que el lenguaje trae incorporadas y también existen las funciones que el programador crea para desarrollar sus proyectos. \n",
    "2.\tParámetros posicionales \n",
    "Los parámetros posicionales hacen alusión a la posición relativa de los parámetros que se han establecido en la función. Los argumentos se asocian a los parámetros dentro de la función. Por ejemplo, si se establece que: “def ejemplo(parametro0, parametro1)” y se hace un llamado a la función de la siguiente forma: “ejemplo(8,15)”, Python estará asignando el valor de 8 al parametro0 y 15 al parametro1 porque atiende a la posición dentro de la función. \n",
    "3.\tParámetros nombrados \n",
    "A diferencia de los parámetros posicionales, en este caso no importa el orden en que se escriban los parámetros cuando se haga el llamado de la función, siempre y cuando se establezcan los valores que se quieren dar. Por ejemplo: “ejemplo(parametro1=15, parametro0=8)”. En este caso, el orden fue invertido pero se indicó el parámetro y su valor. \n",
    "4.\tRetorno de múltiples valores  \n",
    "En este caso, la función return devuelve una tupla, es decir, un conjunto ordenado de datos, por lo que se puede decir que retorna múltiples valores dada una función definida. Por ejemplo, para una pyme se podría realizar la operación de obtener las utilidades y el margen de ganancia, dados los costos y los ingresos de la organización que se dedica a la venta de un solo producto. Dicha operación quedaría de la siguiente manera –utilizando la función return-: \n",
    "Def datos_empresa(costos, ingresos):\n",
    "utilidad= ingresos – costos\n",
    "                        margen_ganancia= (utilidad/costos) * 100\n",
    "return utilidad, margen_ganancia\n",
    "5.\tFunciones como objetos y argumentos\n",
    "En el caso de las funciones como argumentos, significa que el argumento de una función determinada es a la vez una función. Por ejemplo, la función: def ejemplo(función_argumento, x). En el caso de las funciones como objetos, la función puede asignarse como valor de una variable. Por ejemplo: def ejemplo_objeto (n); luego, esa función se asigna a una variable, quedando de la siguiente manera: variable_ejemplo = ejemplo_objeto. \n",
    "6.\tFunciones anónimas o lambda \n",
    "La característica distintiva de esta función es que no necesita la función return. Se debe definir la función y establecer la operación que se debe realizar con los elementos de la función. Por ejemplo: \n",
    "ejemplo_lambda = lambda m,n:  m+n\n"
   ]
  },
  {
   "cell_type": "code",
   "execution_count": 10,
   "metadata": {},
   "outputs": [],
   "source": [
    "#Parametros posicionales\n",
    "def ejemplo(parametro0, parametro1):\n",
    "    ejemplo(8,15)"
   ]
  },
  {
   "cell_type": "code",
   "execution_count": 11,
   "metadata": {},
   "outputs": [],
   "source": [
    "#Parametros nombrados \n",
    "def ejemplo (parametro0,parametro1):\n",
    "    ejemplo(parametro1=15,parametro0=8)"
   ]
  },
  {
   "cell_type": "code",
   "execution_count": 13,
   "metadata": {},
   "outputs": [],
   "source": [
    "#Retorno de multiples valores \n",
    "def datos_empresa(costos,ingreso):\n",
    "    utilidad=ingresos-costos\n",
    "    margen=(utilidad/costos) * 100\n",
    "    return utilidad, margen"
   ]
  },
  {
   "cell_type": "code",
   "execution_count": 22,
   "metadata": {},
   "outputs": [],
   "source": [
    "#Funcion como argumento\n",
    "def funcion_argumento (a,b):\n",
    "    print(funcion_argumento)\n",
    "def ejemplo_arg(funcion_argumento, x):\n",
    "    return ejemplor_arg\n"
   ]
  },
  {
   "cell_type": "code",
   "execution_count": 23,
   "metadata": {},
   "outputs": [],
   "source": [
    "#funcion como objeto \n",
    "def ejemplo_objeto(n):\n",
    "    print(n)\n",
    "variable_objeto=ejemplo_objeto"
   ]
  },
  {
   "cell_type": "code",
   "execution_count": 38,
   "metadata": {
    "scrolled": true
   },
   "outputs": [],
   "source": [
    "#Funcion lambda\n",
    "ejemplo=lambda m,n: m+n\n",
    "\n",
    "\n"
   ]
  },
  {
   "cell_type": "code",
   "execution_count": null,
   "metadata": {},
   "outputs": [],
   "source": []
  }
 ],
 "metadata": {
  "kernelspec": {
   "display_name": "Python 3",
   "language": "python",
   "name": "python3"
  },
  "language_info": {
   "codemirror_mode": {
    "name": "ipython",
    "version": 3
   },
   "file_extension": ".py",
   "mimetype": "text/x-python",
   "name": "python",
   "nbconvert_exporter": "python",
   "pygments_lexer": "ipython3",
   "version": "3.7.1"
  }
 },
 "nbformat": 4,
 "nbformat_minor": 2
}
