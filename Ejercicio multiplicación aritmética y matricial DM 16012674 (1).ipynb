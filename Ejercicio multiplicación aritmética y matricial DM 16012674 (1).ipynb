{
 "cells": [
  {
   "cell_type": "markdown",
   "metadata": {},
   "source": [
    "Ejercicios matrices Daniel Conrado Monroy Madrid 16012674\n"
   ]
  },
  {
   "cell_type": "code",
   "execution_count": 2,
   "metadata": {},
   "outputs": [],
   "source": [
    "import numpy as np"
   ]
  },
  {
   "cell_type": "markdown",
   "metadata": {},
   "source": [
    "\n",
    "\n",
    "**Ejemplo en DS** : en inteligencia artificial y ML en la sub-rama \"reinforcement learning\" la \"ecuacion de bellman\" puede aplicarse de manera vectorizada a traves del operar vectores, matrices y escalares en una sola expresion.\n",
    "\n",
    "<img src=\"https://rebornhugo.github.io/assets/images/post_images/%E5%BC%BA%E5%8C%96%E5%AD%A6%E4%B9%A02/bellman%20equation2.PNG\">\n",
    "\n",
    "* n = numero de estados del sistema.\n",
    "* V(s) = vector que representa el valor esperado para cierto estado\n",
    "* R = recompensa inmediata percibida por el agente al salir de cierto estado.(vector)\n",
    "* P = matriz de transicion de la cadena de Markov sub-yacente.(matriz)\n",
    "* γ = factor de descuento de recompensas futuras(escalar)\n",
    "\n",
    "Calcular V(s) para el siguiente sistema aplicando la ecuación de bellman de manera vectorizada."
   ]
  },
  {
   "cell_type": "code",
   "execution_count": 3,
   "metadata": {},
   "outputs": [
    {
     "name": "stdout",
     "output_type": "stream",
     "text": [
      "[10.  2.  5.]\n"
     ]
    }
   ],
   "source": [
    "V = np.array([0,0,0]) # valor inicial de V(s)\n",
    "R = np.array([10,2,5]) # vector de recompensas\n",
    "P = np.array([[0.5,0.25,0.25],\n",
    "              [0.2,0.40,0.40],\n",
    "              [0.80,0.10,0.10]])  # matriz de transición\n",
    "gamma = 0.99\n",
    "\n",
    "b1=gamma*P\n",
    "b2=np.matmul(b1,V)\n",
    "bellman=b2+R\n",
    "\n",
    "print(bellman)\n",
    "\n"
   ]
  },
  {
   "cell_type": "markdown",
   "metadata": {},
   "source": [
    "### Ejercicio \n",
    "\n",
    "Implementar en una funcion neural_network(X) la red neuronal definida por la siguiente arquitectura:\n",
    "\n",
    "<img src=\"http://i.imgur.com/UNlffE1.png\">\n",
    "\n",
    "Podemos validar si fue correctamente implementada si usamos como entrada el vector x=[1,1] . Debemos obtener el resultado mostrado en la imagen.\n",
    "\n",
    "Una vez tenemos la implementacion correcta, cambiar la funcion de activacion de la capa de salida por la funcion de activacion ReLu(https://en.wikipedia.org/wiki/Rectifier_(neural_networks)):\n",
    "\n",
    "<img src=\"https://cdn-images-1.medium.com/max/1600/1*DfMRHwxY1gyyDmrIAd-gjQ.png\">\n",
    "\n",
    "Luego evaluar la red neuronal sobre la matriz de datos X(de manera vectorizada):"
   ]
  },
  {
   "cell_type": "code",
   "execution_count": 61,
   "metadata": {},
   "outputs": [
    {
     "name": "stdout",
     "output_type": "stream",
     "text": [
      "(array([[0.81275154]]), array([[0.69269553]]), array([[0.81275154]]))\n"
     ]
    }
   ],
   "source": [
    "def sigmoid(x): #convertir los valores de x al rango de 0 a 1\n",
    "    return 1/(1+np.exp(-x))\n",
    "\n",
    "def relu(x):\n",
    "    return np.maximum(0,x)\n",
    "\n",
    "def neural_network(x):\n",
    "    hiddenl=np.array([[0.712,0.355,0.268],[0.112,0.855,0.468]])\n",
    "    output=np.array([[0.116],[0.329],[0.708]])\n",
    "    o1=np.matmul(x,hiddenl)\n",
    "    o1=sigmoid(o1)\n",
    "    o2=np.matmul(o1,output)\n",
    "    o3=sigmoid(o2)\n",
    "    o4=relu(o2)\n",
    "    \n",
    "    \n",
    "    return o2,o3,o4\n",
    "\n",
    "x=np.array([[1,1]])\n",
    "\n",
    "print(neural_network(x))  #En la respuesta se imprime el resultado de la operación matricial como tal, el resultado aplicando sigmoid (como aparece en la imagen) y también se incluye el resultado aplicando reLU. "
   ]
  },
  {
   "cell_type": "code",
   "execution_count": 60,
   "metadata": {},
   "outputs": [
    {
     "name": "stdout",
     "output_type": "stream",
     "text": [
      "(array([[0.85897151],\n",
      "       [0.6748703 ],\n",
      "       [1.14904686],\n",
      "       [1.15125178],\n",
      "       [1.14187076],\n",
      "       [0.72619803],\n",
      "       [1.15019715],\n",
      "       [1.153     ],\n",
      "       [1.1500904 ],\n",
      "       [1.153     ]]), array([[0.70244573],\n",
      "       [0.66259284],\n",
      "       [0.75933678],\n",
      "       [0.75973948],\n",
      "       [0.75802295],\n",
      "       [0.6739704 ],\n",
      "       [0.75954693],\n",
      "       [0.76005845],\n",
      "       [0.75952743],\n",
      "       [0.76005845]]), array([[0.85897151],\n",
      "       [0.6748703 ],\n",
      "       [1.14904686],\n",
      "       [1.15125178],\n",
      "       [1.14187076],\n",
      "       [0.72619803],\n",
      "       [1.15019715],\n",
      "       [1.153     ],\n",
      "       [1.1500904 ],\n",
      "       [1.153     ]]))\n"
     ]
    }
   ],
   "source": [
    "X = np.array([\n",
    "    [0.1,2],\n",
    "    [0.3,0.45],\n",
    "    [5,9],\n",
    "    [12,6],\n",
    "    [7,5],\n",
    "    [0.3,0.8],\n",
    "    [12,5],\n",
    "    [100,200],\n",
    "    [7,8],\n",
    "    [300,1500]])\n",
    "\n",
    "print(neural_network(x=X))"
   ]
  }
 ],
 "metadata": {
  "kernelspec": {
   "display_name": "Python 3",
   "language": "python",
   "name": "python3"
  },
  "language_info": {
   "codemirror_mode": {
    "name": "ipython",
    "version": 3
   },
   "file_extension": ".py",
   "mimetype": "text/x-python",
   "name": "python",
   "nbconvert_exporter": "python",
   "pygments_lexer": "ipython3",
   "version": "3.7.1"
  }
 },
 "nbformat": 4,
 "nbformat_minor": 2
}
