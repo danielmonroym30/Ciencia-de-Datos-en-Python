{
 "cells": [
  {
   "cell_type": "markdown",
   "metadata": {},
   "source": [
    "Investigación proyección vectorial \n",
    "Daniel Conrado Monroy Madrid 16012674"
   ]
  },
  {
   "cell_type": "code",
   "execution_count": 2,
   "metadata": {},
   "outputs": [],
   "source": [
    "import numpy as np"
   ]
  },
  {
   "cell_type": "markdown",
   "metadata": {},
   "source": [
    "1) ¿Qué es proyección vectorial?\n",
    "La proyección vectorial es la operación cuyo resultado es un vector, producto de examinar cómo un vector se proyecta sobre otro. "
   ]
  },
  {
   "cell_type": "code",
   "execution_count": 5,
   "metadata": {},
   "outputs": [],
   "source": [
    "#2) Definir una ufunc para calcular proyección vectorial sobre vectores de Numpy\n",
    "def proyeccionvect(a,b): #a y b son dos vectores\n",
    "    return(np.dot(a,b)/np.dot(b,b))*b #np.dot es la herramienta que provee Numpy para poder calcular el producto punto entre dos vectores."
   ]
  },
  {
   "cell_type": "markdown",
   "metadata": {},
   "source": [
    "3) ¿Cómo interpretamos la proyección vectorial?\n",
    "La proyección vectorial se puede interpretar como la sombra que proyecta un vector sobre otro vector o sobre un determinado eje. "
   ]
  },
  {
   "cell_type": "code",
   "execution_count": 4,
   "metadata": {},
   "outputs": [
    {
     "name": "stdout",
     "output_type": "stream",
     "text": [
      "[1.6 0.8]\n"
     ]
    }
   ],
   "source": [
    "# 4) Utilizando la función del punto anterior calcularla para vectores de ejemplo e interpretar o concluir sobre el resultado.\n",
    "def proyeccionvect(a,b): \n",
    "    return(np.dot(a,b)/np.dot(b,b))*b\n",
    "#Primero se definen los vectores \n",
    "a=np.array([1,2])\n",
    "b=np.array([2,1])\n",
    "\n",
    "#Ahora que se han definido los vectores, se puede utilizar la función antes definida.\n",
    "print(proyeccionvect(a,b))"
   ]
  },
  {
   "cell_type": "markdown",
   "metadata": {},
   "source": [
    "5) Investigar o proponer una aplicación o caso de uso de proyección vectorial en ciencia de datos u otras ciencia de tu interés donde se pueda aplicar programación numérica. Como ejemplo o tip para esta parte: un algoritmo muy importante de ML se basa en esto y su nombre puede servir como pista para saber cual es.\n",
    "\n",
    "Mi propuesta se basa en analizar economías con estructuras productivas e institucionales similares y sus respectivas tasas de crecimiento en la última década (por ejemplo). Las tasas de crecimiento se podrían incluir dentro de un vector y mediante la operación de producto punto analizar qué tanto han convergido en el crecimiento y si hay una brecha significativa, estudiar qué ha hecho el país con mayores tasas de crecimiento para hacer un análisis comparativo."
   ]
  }
 ],
 "metadata": {
  "kernelspec": {
   "display_name": "Python 3",
   "language": "python",
   "name": "python3"
  },
  "language_info": {
   "codemirror_mode": {
    "name": "ipython",
    "version": 3
   },
   "file_extension": ".py",
   "mimetype": "text/x-python",
   "name": "python",
   "nbconvert_exporter": "python",
   "pygments_lexer": "ipython3",
   "version": "3.7.1"
  }
 },
 "nbformat": 4,
 "nbformat_minor": 2
}
