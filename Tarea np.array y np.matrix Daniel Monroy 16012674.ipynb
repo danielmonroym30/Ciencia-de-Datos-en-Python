{
 "cells": [
  {
   "cell_type": "markdown",
   "metadata": {},
   "source": [
    "Tarea diferencia entre np.array y np.matrix - Daniel Conrado Monroy Madrid 16012674"
   ]
  },
  {
   "cell_type": "markdown",
   "metadata": {},
   "source": [
    "La diferencia radica en que el array es de N dimensiones, mientras que la matriz es bidimensional. Por otro lado, al utilizar np.matriz la operación de multiplicación es identificada por python como la multiplicación matricial que se estudia en álgebra lineal, mientras que al ultilizar arrays para obtener la multiplicación tendría que ejecutarse la operación de producto punto ya que al tratarse de arrays se opera elemento por elemento (element-wise) y por lo tanto, no se obtiene la operación deseada(multiplicación matricial). Un ejemplo ayudará a clarificar lo arriba explicado:"
   ]
  },
  {
   "cell_type": "code",
   "execution_count": 1,
   "metadata": {},
   "outputs": [],
   "source": [
    "import numpy as np"
   ]
  },
  {
   "cell_type": "code",
   "execution_count": 7,
   "metadata": {},
   "outputs": [
    {
     "name": "stdout",
     "output_type": "stream",
     "text": [
      "[[47 58]\n",
      " [23 28]]\n"
     ]
    }
   ],
   "source": [
    "a=np.matrix('5 6;2 3')\n",
    "b=np.matrix('1 2;7 8')\n",
    "print(a*b) #En este caso, el resultado muestra la operación típica de multiplicación de matrices.\n"
   ]
  },
  {
   "cell_type": "code",
   "execution_count": 9,
   "metadata": {},
   "outputs": [
    {
     "name": "stdout",
     "output_type": "stream",
     "text": [
      "[[ 5 12]\n",
      " [14 24]]\n"
     ]
    }
   ],
   "source": [
    "#¿Qué pasa si se realiza la misma operación con np.array? \n",
    "c=np.array([[5, 6], [2, 3]])\n",
    "d=np.array([[1, 2], [7, 8]])\n",
    "print(a*b) #Como se puede observar en el resultado, no resulta en la misma respuesta ya que lo que hizo fue multiplicar elemento por elemento (5x1,6x2,2x7 y 3x8)"
   ]
  },
  {
   "cell_type": "code",
   "execution_count": 11,
   "metadata": {},
   "outputs": [
    {
     "name": "stdout",
     "output_type": "stream",
     "text": [
      "[[47 58]\n",
      " [23 28]]\n"
     ]
    }
   ],
   "source": [
    "#En el caso de los arrays, la operación a ejecutar sería el producto punto, el cual sí devolverá el resultado del principio (la multiplicación matricial)\n",
    "c=np.array([[5, 6], [2, 3]])\n",
    "d=np.array([[1, 2], [7, 8]])\n",
    "print(np.dot(c,d))"
   ]
  },
  {
   "cell_type": "markdown",
   "metadata": {},
   "source": [
    "Como se puede observar, la operación producto punto sí devuelve el resultado deseado."
   ]
  },
  {
   "cell_type": "markdown",
   "metadata": {},
   "source": [
    "Otra operación que actúa de manera distinta es la de elevar a determinada potencia. Cuando es una matriz (a**2) realiza la operación de a * a. Sin embargo, cuando es un array, de nuevo, python realiza la operación elemento por elemento; es decir, cada elemento del array \"a\" lo eleva al cuadrado. El ejemplo ayudará a clarificar esto:"
   ]
  },
  {
   "cell_type": "code",
   "execution_count": 12,
   "metadata": {},
   "outputs": [
    {
     "name": "stdout",
     "output_type": "stream",
     "text": [
      "[[37 48]\n",
      " [16 21]]\n"
     ]
    }
   ],
   "source": [
    "a=np.matrix('5 6;2 3')\n",
    "print(a**2)"
   ]
  },
  {
   "cell_type": "code",
   "execution_count": 13,
   "metadata": {},
   "outputs": [
    {
     "name": "stdout",
     "output_type": "stream",
     "text": [
      "[[25 36]\n",
      " [ 4  9]]\n"
     ]
    }
   ],
   "source": [
    "c=np.array([[5, 6], [2, 3]])\n",
    "print(c**2)"
   ]
  },
  {
   "cell_type": "markdown",
   "metadata": {},
   "source": [
    "En el primer caso, realizó la operación de la matriz multiplicada por la matriz (a * a); en el segundo tomó cada elemento del array y lo elevó al cuadrado (5 ** 2,6 * *2,2 ** 2,3 ** 3)"
   ]
  }
 ],
 "metadata": {
  "kernelspec": {
   "display_name": "Python 3",
   "language": "python",
   "name": "python3"
  },
  "language_info": {
   "codemirror_mode": {
    "name": "ipython",
    "version": 3
   },
   "file_extension": ".py",
   "mimetype": "text/x-python",
   "name": "python",
   "nbconvert_exporter": "python",
   "pygments_lexer": "ipython3",
   "version": "3.7.1"
  }
 },
 "nbformat": 4,
 "nbformat_minor": 2
}
